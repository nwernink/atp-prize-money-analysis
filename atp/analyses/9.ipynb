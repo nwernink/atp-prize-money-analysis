{
 "cells": [
  {
   "cell_type": "markdown",
   "metadata": {},
   "source": [
    "# Potential Impact of ATP Baseline on Player Earnings"
   ]
  },
  {
   "cell_type": "markdown",
   "metadata": {},
   "source": [
    "In 2024, the ATP launched Baseline which is a financial security program for players that guarantees them a minimum amount of income based on their ranking as well as injury protection. Below shows the players that would be affected by this program if it were implemented in the previous year and by how much it would impact them."
   ]
  },
  {
   "cell_type": "code",
   "execution_count": 8,
   "metadata": {},
   "outputs": [],
   "source": [
    "import pandas as pd\n",
    "import datetime"
   ]
  },
  {
   "cell_type": "code",
   "execution_count": 9,
   "metadata": {},
   "outputs": [],
   "source": [
    "END_YEAR = datetime.datetime.now().year - 1\n",
    "TOP_100 = 100\n",
    "TOP_100_BASELINE = 300000\n",
    "TOP_175 = 175\n",
    "TOP_175_BASELINE = 150000\n",
    "TOP_250 = 250\n",
    "TOP_250_BASELINE = 75000"
   ]
  },
  {
   "cell_type": "code",
   "execution_count": 10,
   "metadata": {},
   "outputs": [],
   "source": [
    "singles_df = pd.read_csv(f\"../data/players/clean/singles/{END_YEAR}.gz\")\n",
    "total_players_affected = 0\n",
    "total_additional_prize_money = 0"
   ]
  },
  {
   "cell_type": "code",
   "execution_count": 11,
   "metadata": {},
   "outputs": [
    {
     "name": "stdout",
     "output_type": "stream",
     "text": [
      "\n",
      "Total Players Affected (1 - 100): 0\n",
      "Total Additional Prize Money (1 - 100): $0\n"
     ]
    }
   ],
   "source": [
    "players_affected = 0\n",
    "additional_prize_money = 0\n",
    "\n",
    "for rank in range(1, TOP_100 + 1):\n",
    "    player = singles_df.loc[singles_df[\"ranking\"] == rank]\n",
    "\n",
    "    if player[\"prize_money\"].values[0] < TOP_100_BASELINE:\n",
    "        players_affected += 1\n",
    "        player_name = player[\"name\"].values[0]\n",
    "        prize_money = round(player[\"prize_money\"].values[0])\n",
    "        additional_money = TOP_100_BASELINE - prize_money\n",
    "        additional_prize_money += additional_money\n",
    "\n",
    "        print(f\"{player_name}: Prize Money Earned - ${prize_money}, Additional Prize Money - ${additional_money}\")\n",
    "\n",
    "total_players_affected += players_affected\n",
    "total_additional_prize_money += additional_prize_money\n",
    "\n",
    "print(f\"\\nTotal Players Affected (1 - 100): {players_affected}\")\n",
    "print(f\"Total Additional Prize Money (1 - 100): ${additional_prize_money}\")"
   ]
  },
  {
   "cell_type": "code",
   "execution_count": 12,
   "metadata": {},
   "outputs": [
    {
     "name": "stdout",
     "output_type": "stream",
     "text": [
      "Francisco Comesana: Prize Money Earned - $128449, Additional Prize Money - $21551\n",
      "Mariano Navone: Prize Money Earned - $147659, Additional Prize Money - $2341\n",
      "Sumit Nagal: Prize Money Earned - $116402, Additional Prize Money - $33598\n",
      "Duje Ajdukovic: Prize Money Earned - $76417, Additional Prize Money - $73583\n",
      "Joris De Loore: Prize Money Earned - $149441, Additional Prize Money - $559\n",
      "Benjamin Hassan: Prize Money Earned - $88695, Additional Prize Money - $61305\n",
      "Andrea Pellegrino: Prize Money Earned - $149554, Additional Prize Money - $446\n",
      "Pablo Llamas Ruiz: Prize Money Earned - $131638, Additional Prize Money - $18362\n",
      "Antoine Escoffier: Prize Money Earned - $143146, Additional Prize Money - $6854\n",
      "Vitaliy Sachko: Prize Money Earned - $103952, Additional Prize Money - $46048\n",
      "Yunchaokete Bu: Prize Money Earned - $104721, Additional Prize Money - $45279\n",
      "\n",
      "Total Players Affected (101 - 175): 11\n",
      "Total Additional Prize Money (101 - 175): $309926\n"
     ]
    }
   ],
   "source": [
    "players_affected = 0\n",
    "additional_prize_money = 0\n",
    "\n",
    "for rank in range(TOP_100 + 1, TOP_175 + 1):\n",
    "    player = singles_df.loc[singles_df[\"ranking\"] == rank]\n",
    "\n",
    "    if player[\"prize_money\"].values[0] < TOP_175_BASELINE:\n",
    "        players_affected += 1\n",
    "        player_name = player[\"name\"].values[0]\n",
    "        prize_money = round(player[\"prize_money\"].values[0])\n",
    "        additional_money = TOP_175_BASELINE - prize_money\n",
    "        additional_prize_money += additional_money\n",
    "\n",
    "\n",
    "        print(f\"{player_name}: Prize Money Earned - ${prize_money}, Additional Prize Money - ${additional_money}\")\n",
    "\n",
    "total_players_affected += players_affected\n",
    "total_additional_prize_money += additional_prize_money\n",
    "\n",
    "print(f\"\\nTotal Players Affected (101 - 175): {players_affected}\")\n",
    "print(f\"Total Additional Prize Money (101 - 175): ${additional_prize_money}\")"
   ]
  },
  {
   "cell_type": "code",
   "execution_count": 13,
   "metadata": {},
   "outputs": [
    {
     "name": "stdout",
     "output_type": "stream",
     "text": [
      "Roman Andres Burruchaga: Prize Money Earned - $62271, Additional Prize Money - $12729\n",
      "Calvin Hemery: Prize Money Earned - $56640, Additional Prize Money - $18360\n",
      "Rudolf Molleker: Prize Money Earned - $74689, Additional Prize Money - $311\n",
      "Oriol Roca Batalla: Prize Money Earned - $64100, Additional Prize Money - $10900\n",
      "Kyrian Jacquet: Prize Money Earned - $54392, Additional Prize Money - $20608\n",
      "Oliver Crawford: Prize Money Earned - $48229, Additional Prize Money - $26771\n",
      "Ugo Blanchet: Prize Money Earned - $57866, Additional Prize Money - $17134\n",
      "Illya Marchenko: Prize Money Earned - $54560, Additional Prize Money - $20440\n",
      "Goncalo Oliveira: Prize Money Earned - $54072, Additional Prize Money - $20928\n",
      "Jules Marie: Prize Money Earned - $50614, Additional Prize Money - $24386\n",
      "Clement Tabur: Prize Money Earned - $44966, Additional Prize Money - $30034\n",
      "Lukas Neumayer: Prize Money Earned - $56567, Additional Prize Money - $18433\n",
      "Alejandro Moro Canas: Prize Money Earned - $45066, Additional Prize Money - $29934\n",
      "Jason Jung: Prize Money Earned - $66680, Additional Prize Money - $8320\n",
      "Henrique Rocha: Prize Money Earned - $48233, Additional Prize Money - $26767\n",
      "Gustavo Heide: Prize Money Earned - $44315, Additional Prize Money - $30685\n",
      "Guido Andreozzi: Prize Money Earned - $67726, Additional Prize Money - $7274\n",
      "Lucas Poullain: Prize Money Earned - $40092, Additional Prize Money - $34908\n",
      "\n",
      "Total Players Affected (176 - 250): 18\n",
      "Total Additional Prize Money (176 - 250): $358922\n"
     ]
    }
   ],
   "source": [
    "players_affected = 0\n",
    "additional_prize_money = 0\n",
    "for rank in range(TOP_175 + 1, TOP_250 + 1):\n",
    "    player = singles_df.loc[singles_df[\"ranking\"] == rank]\n",
    "\n",
    "    if player[\"prize_money\"].values[0] < TOP_250_BASELINE:\n",
    "        players_affected += 1\n",
    "        player_name = player[\"name\"].values[0]\n",
    "        prize_money = round(player[\"prize_money\"].values[0])\n",
    "        additional_money = TOP_250_BASELINE - prize_money\n",
    "        additional_prize_money += additional_money\n",
    "\n",
    "        print(f\"{player_name}: Prize Money Earned - ${prize_money}, Additional Prize Money - ${additional_money}\")\n",
    "\n",
    "total_players_affected += players_affected\n",
    "total_additional_prize_money += additional_prize_money\n",
    "\n",
    "print(f\"\\nTotal Players Affected (176 - 250): {players_affected}\")\n",
    "print(f\"Total Additional Prize Money (176 - 250): ${additional_prize_money}\")"
   ]
  },
  {
   "cell_type": "code",
   "execution_count": 14,
   "metadata": {},
   "outputs": [
    {
     "name": "stdout",
     "output_type": "stream",
     "text": [
      "\n",
      "Total Players Affected: 29\n",
      "Total Additional Prize Money: $668848\n"
     ]
    }
   ],
   "source": [
    "print(f\"\\nTotal Players Affected: {total_players_affected}\")\n",
    "print(f\"Total Additional Prize Money: ${total_additional_prize_money}\")"
   ]
  }
 ],
 "metadata": {
  "kernelspec": {
   "display_name": "Python 3",
   "language": "python",
   "name": "python3"
  },
  "language_info": {
   "codemirror_mode": {
    "name": "ipython",
    "version": 3
   },
   "file_extension": ".py",
   "mimetype": "text/x-python",
   "name": "python",
   "nbconvert_exporter": "python",
   "pygments_lexer": "ipython3",
   "version": "3.10.6"
  }
 },
 "nbformat": 4,
 "nbformat_minor": 2
}
