{
 "cells": [
  {
   "cell_type": "markdown",
   "metadata": {},
   "source": [
    "# Data Processing"
   ]
  },
  {
   "cell_type": "code",
   "execution_count": 2,
   "metadata": {},
   "outputs": [],
   "source": [
    "import pandas as pd\n",
    "import datetime\n",
    "import json"
   ]
  },
  {
   "cell_type": "code",
   "execution_count": 3,
   "metadata": {},
   "outputs": [],
   "source": [
    "START_YEAR = 2009\n",
    "END_YEAR = datetime.datetime.now().year - 1"
   ]
  },
  {
   "cell_type": "code",
   "execution_count": 4,
   "metadata": {},
   "outputs": [],
   "source": [
    "def inflate_prize_money(initial_amount, initial_year):\n",
    "    cpi = pd.read_csv(\"data/inflation/inflation.csv\")\n",
    "    rate = cpi.loc[cpi[\"year\"] == initial_year][\"rate\"].values[0]\n",
    "    return initial_amount * rate"
   ]
  },
  {
   "cell_type": "code",
   "execution_count": null,
   "metadata": {},
   "outputs": [],
   "source": [
    "def process_singles_data(year):\n",
    "    singles = pd.read_csv(f\"data/players/activity/singles/{str(year)}.gz\")\n",
    "\n",
    "    # loop through each row\n",
    "    for i in range(len(singles)):\n",
    "        wins = singles.loc[i, \"wins\"]\n",
    "        losses = singles.loc[i, \"losses\"]\n",
    "\n",
    "        prize_money = singles.loc[i, \"prize_money\"]\n",
    "        inflated_prize_money = inflate_prize_money(prize_money, year)\n",
    "\n",
    "        # update row\n",
    "        singles.loc[i, \"wins\"] = wins\n",
    "        singles.loc[i, \"losses\"] = losses\n",
    "        singles.loc[i, \"prize_money\"] = inflated_prize_money\n",
    "\n",
    "    # save to gzipped csv\n",
    "    singles.to_csv(f\"data/players/clean/singles/{year}.gz\", index=False, compression=\"gzip\")\n"
   ]
  },
  {
   "cell_type": "code",
   "execution_count": null,
   "metadata": {},
   "outputs": [],
   "source": [
    "def process_doubles_data(year):\n",
    "    doubles = pd.read_csv(f\"data/players/activity/doubles/{str(year)}.gz\")\n",
    "\n",
    "    # loop through each row\n",
    "    for i in range(len(doubles)):\n",
    "        wins = doubles.loc[i, \"wins\"]\n",
    "        losses = doubles.loc[i, \"losses\"]\n",
    "\n",
    "        prize_money = doubles.loc[i, \"prize_money\"]\n",
    "        inflated_prize_money = inflate_prize_money(prize_money, year)\n",
    "\n",
    "        # update row\n",
    "        doubles.loc[i, \"wins\"] = wins\n",
    "        doubles.loc[i, \"losses\"] = losses\n",
    "        doubles.loc[i, \"prize_money\"] = inflated_prize_money\n",
    "\n",
    "    # save to gzipped csv\n",
    "    doubles.to_csv(f\"data/players/clean/doubles/{year}.gz\", index=False, compression=\"gzip\")"
   ]
  },
  {
   "cell_type": "code",
   "execution_count": null,
   "metadata": {},
   "outputs": [],
   "source": [
    "for year in range(START_YEAR, END_YEAR + 1):\n",
    "    process_singles_data(year)\n",
    "    process_doubles_data(year)"
   ]
  },
  {
   "cell_type": "code",
   "execution_count": null,
   "metadata": {},
   "outputs": [],
   "source": [
    "def get_unique_player_ids(singles, doubles):\n",
    "    singles_ids = singles[\"player_id\"].unique()\n",
    "    doubles_ids = doubles[\"player_id\"].unique()\n",
    "    return list(set(singles_ids) | set(doubles_ids))"
   ]
  },
  {
   "cell_type": "code",
   "execution_count": null,
   "metadata": {},
   "outputs": [],
   "source": [
    "for year in range(START_YEAR, END_YEAR + 1):\n",
    "    combined = []\n",
    "    singles = pd.read_csv(f\"data/players/clean/singles/{year}.gz\")\n",
    "    doubles = pd.read_csv(f\"data/players/clean/doubles/{year}.gz\")\n",
    "\n",
    "    players = get_unique_player_ids(singles, doubles)\n",
    "\n",
    "    for player_id in players:\n",
    "        total_prize_money = 0\n",
    "        predominate_type = \"\"\n",
    "        highest_ranking = 9999\n",
    "\n",
    "        player_singles = singles[singles[\"player_id\"] == player_id]\n",
    "        player_doubles = doubles[doubles[\"player_id\"] == player_id]\n",
    "\n",
    "        singles_tournaments = []\n",
    "        if len(player_singles) == 1:\n",
    "            total_prize_money += player_singles[\"prize_money\"].sum()\n",
    "            predominate_type = \"singles\"\n",
    "            highest_ranking = player_singles[\"ranking\"].min()\n",
    "            singles_tournaments = json.loads(player_singles[\"tournaments\"].iloc[0])\n",
    "\n",
    "        doubles_tournaments = []\n",
    "        if len(player_doubles) == 1:\n",
    "            total_prize_money += player_doubles[\"prize_money\"].sum()\n",
    "            double_ranking = player_doubles[\"ranking\"].min()\n",
    "            doubles_tournaments = json.loads(player_doubles[\"tournaments\"].iloc[0])\n",
    "\n",
    "            if highest_ranking == 0 or double_ranking < highest_ranking:\n",
    "                predominate_type = \"doubles\"\n",
    "\n",
    "        combined.append({\n",
    "            \"player_id\": player_id,\n",
    "            \"total_prize_money\": total_prize_money,\n",
    "            \"type\": predominate_type,\n",
    "            \"singles_tournaments\": singles_tournaments,\n",
    "            \"doubles_tournaments\": doubles_tournaments,\n",
    "        })\n",
    "\n",
    "    df = pd.DataFrame(combined)\n",
    "    df.to_csv(f\"data/players/combined/{year}.gz\", index=False, compression=\"gzip\")"
   ]
  }
 ],
 "metadata": {
  "kernelspec": {
   "display_name": "Python 3",
   "language": "python",
   "name": "python3"
  },
  "language_info": {
   "codemirror_mode": {
    "name": "ipython",
    "version": 3
   },
   "file_extension": ".py",
   "mimetype": "text/x-python",
   "name": "python",
   "nbconvert_exporter": "python",
   "pygments_lexer": "ipython3",
   "version": "3.11.6"
  }
 },
 "nbformat": 4,
 "nbformat_minor": 2
}
